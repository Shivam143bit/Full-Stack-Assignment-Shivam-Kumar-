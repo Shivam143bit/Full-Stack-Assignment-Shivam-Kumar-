{
 "cells": [
  {
   "cell_type": "code",
   "execution_count": 14,
   "id": "5efae9ec-bdb3-4665-b36c-88295e4472de",
   "metadata": {},
   "outputs": [
    {
     "name": "stdin",
     "output_type": "stream",
     "text": [
      "Enter a number:  2\n"
     ]
    },
    {
     "name": "stdout",
     "output_type": "stream",
     "text": [
      "1, 3\n"
     ]
    }
   ],
   "source": [
    "def gen(a):\n",
    "    sr = [2 * i + 1 for i in range(a)]\n",
    "    return sr\n",
    "\n",
    "a = int(input(\"Enter a number: \"))\n",
    "res = gen(a)\n",
    "print(\", \".join(map(str, res)))"
   ]
  },
  {
   "cell_type": "code",
   "execution_count": null,
   "id": "bde69e11-656f-4158-96c7-27ea9bbc7879",
   "metadata": {},
   "outputs": [],
   "source": []
  },
  {
   "cell_type": "code",
   "execution_count": null,
   "id": "68249cab-2fd7-496d-89a5-f588a0cae172",
   "metadata": {},
   "outputs": [],
   "source": []
  },
  {
   "cell_type": "code",
   "execution_count": null,
   "id": "46509f11-cc36-4843-9378-d6a484edbf5f",
   "metadata": {},
   "outputs": [],
   "source": []
  }
 ],
 "metadata": {
  "kernelspec": {
   "display_name": "Python 3 (ipykernel)",
   "language": "python",
   "name": "python3"
  },
  "language_info": {
   "codemirror_mode": {
    "name": "ipython",
    "version": 3
   },
   "file_extension": ".py",
   "mimetype": "text/x-python",
   "name": "python",
   "nbconvert_exporter": "python",
   "pygments_lexer": "ipython3",
   "version": "3.11.4"
  }
 },
 "nbformat": 4,
 "nbformat_minor": 5
}
