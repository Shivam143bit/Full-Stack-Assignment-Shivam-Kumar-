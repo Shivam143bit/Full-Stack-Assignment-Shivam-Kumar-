{
 "cells": [
  {
   "cell_type": "code",
   "execution_count": 4,
   "id": "74ba73ae-f500-4224-8d45-46bdeb85a1f1",
   "metadata": {},
   "outputs": [
    {
     "name": "stdin",
     "output_type": "stream",
     "text": [
      "Enter  number:  3\n"
     ]
    },
    {
     "name": "stdout",
     "output_type": "stream",
     "text": [
      "1, 3, 5\n"
     ]
    }
   ],
   "source": [
    "def gen(a):\n",
    "    co = a if a % 2 != 0 else a - 1\n",
    "    \n",
    "    ser = [2 * i + 1 for i in range(co)]\n",
    "    \n",
    "    print(\", \".join(map(str, ser)))\n",
    "\n",
    "# Input from user\n",
    "try:\n",
    "    a = int(input(\"Enter  number: \"))\n",
    "    if a <= 0:\n",
    "        print(\"Please! Enter a positive integer greater than 0.\")\n",
    "    else:\n",
    "        gen(a)\n",
    "except ValueError:\n",
    "    print(\"Invalid input. Please enter an integer.\")\n"
   ]
  },
  {
   "cell_type": "code",
   "execution_count": null,
   "id": "476cfa20-6035-4e44-ade2-a9d3fbfad6fc",
   "metadata": {},
   "outputs": [],
   "source": []
  }
 ],
 "metadata": {
  "kernelspec": {
   "display_name": "Python 3 (ipykernel)",
   "language": "python",
   "name": "python3"
  },
  "language_info": {
   "codemirror_mode": {
    "name": "ipython",
    "version": 3
   },
   "file_extension": ".py",
   "mimetype": "text/x-python",
   "name": "python",
   "nbconvert_exporter": "python",
   "pygments_lexer": "ipython3",
   "version": "3.11.4"
  }
 },
 "nbformat": 4,
 "nbformat_minor": 5
}
