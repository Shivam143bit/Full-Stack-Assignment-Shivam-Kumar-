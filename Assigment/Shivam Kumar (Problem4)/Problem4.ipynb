{
 "cells": [
  {
   "cell_type": "code",
   "execution_count": 3,
   "id": "7d51e0b4-e02c-409b-b6ff-73b0d27cb697",
   "metadata": {},
   "outputs": [
    {
     "name": "stdout",
     "output_type": "stream",
     "text": [
      "{1: 11, 2: 8, 3: 4, 4: 4, 5: 3, 6: 2, 7: 0, 8: 1, 9: 1}\n"
     ]
    }
   ],
   "source": [
    "def co(nums, div):\n",
    "    co = {}\n",
    "    for d in div:\n",
    "        co[d] = sum(1 for num in nums if num % d == 0)\n",
    "    return co\n",
    "\n",
    "nums = [1, 2, 8, 9, 12, 46, 76, 82, 15, 20, 30]\n",
    "div = list(range(1, 10))\n",
    "\n",
    "res = co(nums, div)\n",
    "print(res)"
   ]
  },
  {
   "cell_type": "code",
   "execution_count": null,
   "id": "d97e4323-3297-4578-9b44-ab99137e4a76",
   "metadata": {},
   "outputs": [],
   "source": []
  }
 ],
 "metadata": {
  "kernelspec": {
   "display_name": "Python 3 (ipykernel)",
   "language": "python",
   "name": "python3"
  },
  "language_info": {
   "codemirror_mode": {
    "name": "ipython",
    "version": 3
   },
   "file_extension": ".py",
   "mimetype": "text/x-python",
   "name": "python",
   "nbconvert_exporter": "python",
   "pygments_lexer": "ipython3",
   "version": "3.11.4"
  }
 },
 "nbformat": 4,
 "nbformat_minor": 5
}
